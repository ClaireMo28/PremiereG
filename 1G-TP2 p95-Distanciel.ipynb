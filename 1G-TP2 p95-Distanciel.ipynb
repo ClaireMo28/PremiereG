{
 "cells": [
  {
   "cell_type": "markdown",
   "metadata": {},
   "source": [
    "# TP 2 p95"
   ]
  },
  {
   "cell_type": "markdown",
   "metadata": {},
   "source": [
    "Ce fichier vous permet de compléter des fonctions en langage Python et de les exécuter.\n",
    "\n",
    "Marche à suivre pour exécuter une fonction :\n",
    "- cliquer sur le cadre qui contient le script de la fonction et l'exécuter (avec le bouton \"Exécuter\" en haut)\n",
    "- dans le cadre juste en-dessous intitulé Entrée[ ], appeler la fonction (comme sur la console dans EduPython) puis l'exécuter (même bouton)"
   ]
  },
  {
   "cell_type": "markdown",
   "metadata": {},
   "source": [
    "## Question 1 "
   ]
  },
  {
   "cell_type": "code",
   "execution_count": null,
   "metadata": {
    "collapsed": true
   },
   "outputs": [],
   "source": [
    "from math import*\n",
    "def coordonnees_polygone(n):\n",
    "    Lx=[]\n",
    "    Ly=[]\n",
    "    for i in range(n):\n",
    "        angle=2*i*pi/n\n",
    "        Lx.append(cos(angle))\n",
    "        Ly.append(sin(angle))\n",
    "    return Lx,Ly"
   ]
  },
  {
   "cell_type": "markdown",
   "metadata": {},
   "source": [
    "Dans le cadre suivant, tester la fonction avec n=4."
   ]
  },
  {
   "cell_type": "code",
   "execution_count": null,
   "metadata": {
    "collapsed": true
   },
   "outputs": [],
   "source": []
  },
  {
   "cell_type": "markdown",
   "metadata": {},
   "source": [
    "## Question 2"
   ]
  },
  {
   "cell_type": "markdown",
   "metadata": {},
   "source": [
    "Compléter le script ci-dessous pour qu'il réponde à la question 2.c) (il faut remplacer les points de suspension par la formule adéquate)"
   ]
  },
  {
   "cell_type": "code",
   "execution_count": null,
   "metadata": {
    "collapsed": true
   },
   "outputs": [],
   "source": [
    "def p_polygone(n):\n",
    "    a=2*pi/n\t\t#calcul de l'angle d'un quartier\n",
    "    c=sqrt((cos(a)-1)**2+sin(a)**2) #calcul d'un côté (racine carrée s'écrit sqrt, et x**2 permet de calculer x au carré)\n",
    "    return n*c"
   ]
  },
  {
   "cell_type": "markdown",
   "metadata": {},
   "source": [
    "Dans le cadre suivant, tester la fonction avec n=4. Vous devez trouver 5,6568..."
   ]
  },
  {
   "cell_type": "code",
   "execution_count": null,
   "metadata": {
    "collapsed": true
   },
   "outputs": [],
   "source": []
  },
  {
   "cell_type": "markdown",
   "metadata": {},
   "source": [
    "## Question 3"
   ]
  },
  {
   "cell_type": "markdown",
   "metadata": {},
   "source": [
    "On a écrit la fonction ci-dessous :"
   ]
  },
  {
   "cell_type": "code",
   "execution_count": null,
   "metadata": {
    "collapsed": true
   },
   "outputs": [],
   "source": [
    "import matplotlib.pyplot as plt\n",
    "\n",
    "\n",
    "def archimede(n):\n",
    "    LX,LY=coordonnees_polygone(n)\n",
    "    LX.append(LX[0])\n",
    "    LY.append(LY[0])\n",
    "    plt.axis(\"equal\")\n",
    "    plt.plot(LX,LY,\"r\")\n",
    "    plt.title('Le demi-périmètre du polygone est :'+str(p_polygone(n)/2))\n",
    "    plt.show()"
   ]
  },
  {
   "cell_type": "markdown",
   "metadata": {},
   "source": [
    "Tester ci-dessous cette fonction pour différentes valeurs de n."
   ]
  },
  {
   "cell_type": "code",
   "execution_count": null,
   "metadata": {},
   "outputs": [],
   "source": []
  },
  {
   "cell_type": "markdown",
   "metadata": {},
   "source": [
    "Dans votre cahier, indiquer vers quel nombre se rapproche le demi-périmètre du polygone lorsque n augmente.\n",
    "\n",
    "Expliquer le résultat."
   ]
  }
 ],
 "metadata": {
  "kernelspec": {
   "display_name": "Python 3",
   "language": "python",
   "name": "python3"
  },
  "language_info": {
   "codemirror_mode": {
    "name": "ipython",
    "version": 3
   },
   "file_extension": ".py",
   "mimetype": "text/x-python",
   "name": "python",
   "nbconvert_exporter": "python",
   "pygments_lexer": "ipython3",
   "version": "3.4.5"
  }
 },
 "nbformat": 4,
 "nbformat_minor": 2
}
